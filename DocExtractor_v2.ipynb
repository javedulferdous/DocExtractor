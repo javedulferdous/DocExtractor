{
 "cells": [
  {
   "cell_type": "markdown",
   "metadata": {},
   "source": [
    "[![Open In Colab](https://colab.research.google.com/assets/colab-badge.svg)](https://colab.research.google.com/drive/1-DcJqdovU22XOzAeOnVAjHk1ie-5PtZZ)\n"
   ]
  },
  {
   "cell_type": "code",
   "execution_count": 1,
   "metadata": {},
   "outputs": [],
   "source": [
    "import os\n",
    "os.chdir(\"test\")"
   ]
  },
  {
   "cell_type": "markdown",
   "metadata": {},
   "source": [
    "### Extract data from a multiple doc file contain in a folder"
   ]
  },
  {
   "cell_type": "markdown",
   "metadata": {},
   "source": [
    "##### Searching all docx file from a folder"
   ]
  },
  {
   "cell_type": "code",
   "execution_count": 2,
   "metadata": {},
   "outputs": [
    {
     "name": "stdout",
     "output_type": "stream",
     "text": [
      "['17thshard.docx', 'aiononline.docx', 'beamdog.docx', 'cigarforums.docx', 'crunchyroll.docx', 'd3go.docx', 'daybreakgames.docx', 'deadbydaylight.docx', 'disboards.docx']\n",
      "\n",
      "Number of Doc file:  9\n"
     ]
    }
   ],
   "source": [
    "from docx import Document\n",
    "import subprocess\n",
    "import os\n",
    "searchingWord=\"Comment:\"\n",
    "\n",
    "file=[]\n",
    "counter = 0\n",
    "for filename in os.listdir(os.getcwd()):\n",
    "    if filename.endswith('.docx'):\n",
    "        file.append(filename)\n",
    "        counter+=1\n",
    "print(file)\n",
    "print(\"\\nNumber of Doc file: \",counter)"
   ]
  },
  {
   "cell_type": "markdown",
   "metadata": {},
   "source": [
    "##### Reading all paragraph that start with \"Comment:\" and storing all sectence in a list"
   ]
  },
  {
   "cell_type": "code",
   "execution_count": 3,
   "metadata": {},
   "outputs": [],
   "source": [
    "allComment=[]\n",
    "searchingWord=\"Comment:\"\n",
    "endWord= \"Time:\"\n",
    "for i in file:\n",
    "    document = Document(i)\n",
    "    for paragraph in document.paragraphs:\n",
    "        if searchingWord in paragraph.text:\n",
    "            if '' in paragraph.text:\n",
    "                allComment.append(paragraph.text + \"\\n\")  \n",
    "                output='\\n'.join(allComment)"
   ]
  },
  {
   "cell_type": "markdown",
   "metadata": {},
   "source": [
    "##### Writing all sentences in new docx file"
   ]
  },
  {
   "cell_type": "code",
   "execution_count": 4,
   "metadata": {},
   "outputs": [],
   "source": [
    "_writeDoc = Document()\n",
    "_writeDoc.add_heading('Result', 0)\n",
    "_writeDoc.add_paragraph(output)\n",
    "_writeDoc.save(\"C:/Users/jafra/OneDrive/Desktop/New folder (3)/test/testFile.docx\")"
   ]
  },
  {
   "cell_type": "markdown",
   "metadata": {},
   "source": [
    "## -------------------------------------------------------------------------------------------------------------------------------"
   ]
  }
 ],
 "metadata": {
  "kernelspec": {
   "display_name": "Python 3",
   "language": "python",
   "name": "python3"
  },
  "language_info": {
   "codemirror_mode": {
    "name": "ipython",
    "version": 3
   },
   "file_extension": ".py",
   "mimetype": "text/x-python",
   "name": "python",
   "nbconvert_exporter": "python",
   "pygments_lexer": "ipython3",
   "version": "3.7.4"
  }
 },
 "nbformat": 4,
 "nbformat_minor": 2
}
