{
 "cells": [
  {
   "cell_type": "markdown",
   "metadata": {},
   "source": [
    "### Extract data from a single doc file"
   ]
  },
  {
   "cell_type": "code",
   "execution_count": null,
   "metadata": {},
   "outputs": [],
   "source": [
    "from docx import Document\n",
    "filename = \"knowyourmeme.docx\"\n",
    "document = Document(filename)\n",
    "print(len(document.paragraphs))\n",
    "\n",
    "print(document.paragraphs[0].text)\n",
    "print(document.paragraphs[1].text)\n",
    "print(document.paragraphs[2].text)\n",
    "print(document.paragraphs[3].text)\n",
    "print(document.paragraphs[4].text)\n",
    "print(document.paragraphs[5].text)\n",
    "print(document.paragraphs[6].text)\n",
    "#for paragraph in document.paragraphs:\n",
    "  #  if 'Comment:' in paragraph.text:\n",
    "        #print (paragraph.text)"
   ]
  },
  {
   "cell_type": "code",
   "execution_count": null,
   "metadata": {},
   "outputs": [],
   "source": [
    "import os\n",
    "os.chdir(\"test\")"
   ]
  },
  {
   "cell_type": "markdown",
   "metadata": {},
   "source": [
    "### Extract data from a multiple doc file contain in a folder"
   ]
  },
  {
   "cell_type": "code",
   "execution_count": null,
   "metadata": {},
   "outputs": [],
   "source": [
    "from docx import Document\n",
    "import subprocess\n",
    "import os\n",
    "searchingWord=\"Comment:\"\n",
    "\n",
    "file=[]\n",
    "counter = 0\n",
    "for filename in os.listdir(os.getcwd()):\n",
    "    if filename.endswith('.docx'):\n",
    "        file.append(filename)\n",
    "        counter+=1\n",
    "print(file)\n",
    "print(\"\\nNumber of Doc file: \",counter)"
   ]
  },
  {
   "cell_type": "code",
   "execution_count": null,
   "metadata": {},
   "outputs": [],
   "source": [
    "allComment=[]\n",
    "searchingWord=\"Comment:\"\n",
    "endWord= \"Time:\"\n",
    "for i in file:\n",
    "    document = Document(i)\n",
    "    for paragraph in document.paragraphs:\n",
    "        if searchingWord in paragraph.text:\n",
    "            if '' in paragraph.text:\n",
    "                allComment.append(paragraph.text)\n",
    "           \n",
    "#print(allComment)\n",
    "document.add_paragraph(allComment)\n",
    "document.save(\"C:/Users/jafra/OneDrive/Desktop/New folder (3)/test/testFile.docx\")\n",
    "allComment"
   ]
  },
  {
   "cell_type": "markdown",
   "metadata": {},
   "source": [
    "## ------------------------------------------------------------------------------------------------------------------------------------"
   ]
  },
  {
   "cell_type": "code",
   "execution_count": null,
   "metadata": {},
   "outputs": [],
   "source": [
    "document.add_paragraph(allComment)\n",
    "document.save(\"C:/Users/jafra/OneDrive/Desktop/New folder (3)/testFile.docx\")"
   ]
  },
  {
   "cell_type": "code",
   "execution_count": null,
   "metadata": {},
   "outputs": [],
   "source": [
    "import docx\n",
    "def DocExtract(filename):\n",
    "    doc = docx.Document(filename)\n",
    "    completedText=[]\n",
    "    \n",
    "    for paragraph in doc.paragraphs:\n",
    "        if 'Comment:' in paragraph.text:\n",
    "            completedText.append(paragraph.text)\n",
    "        \n",
    "    return '\\n'.join(completedText)"
   ]
  },
  {
   "cell_type": "code",
   "execution_count": null,
   "metadata": {},
   "outputs": [],
   "source": [
    "print(DocExtract(\"knowyourmeme.docx\"))"
   ]
  }
 ],
 "metadata": {
  "kernelspec": {
   "display_name": "Python 3",
   "language": "python",
   "name": "python3"
  },
  "language_info": {
   "codemirror_mode": {
    "name": "ipython",
    "version": 3
   },
   "file_extension": ".py",
   "mimetype": "text/x-python",
   "name": "python",
   "nbconvert_exporter": "python",
   "pygments_lexer": "ipython3",
   "version": "3.7.4"
  }
 },
 "nbformat": 4,
 "nbformat_minor": 2
}
