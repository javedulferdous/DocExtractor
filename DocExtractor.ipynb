{
 "cells": [
  {
   "cell_type": "code",
   "execution_count": 92,
   "metadata": {},
   "outputs": [
    {
     "name": "stdout",
     "output_type": "stream",
     "text": [
      "Comment: Dr Pepperfan requested a thread like this, so let's try it out! Don't know the name of a meme? Ask here.\n",
      "Comment: What's the name of the face with the, \"It's time to pwn\" look? It's in the second panel.\n",
      "Comment: IIRC it was called Hero Face or something? Been a while since I've seen it with the original text.\n",
      "Comment: SilverMonGoose wrote:\n",
      "Comment: Sav is correct! I just saw it here under \"determined\": \n",
      "Comment: It's also in the unknown section of the rage face origins Reddit thread: http://www.reddit.com/r/fffffffuuuuuuuuuuuu/comments/d38tq/im_bored_at_work_and_i_want_to_make_an/\n",
      "Comment: What about the one in the third panel?\n",
      "Comment: Fridge wrote:\n",
      "Comment: I don't know, Derpy. It seems to be used more in Rage comics to describe something ugly, etc. Something that would facilitate a Poker Face or an Oh Sweet Jesus Face. It certainly fits derpiness, though.\n",
      "Comment:\n",
      "Comment: Mr Bumhole #1 Fan Of Osaka wrote:\n",
      "Comment: Okay, I've looked really hard and came up with, absolutely nothing. I've searched through countless numbers of websites, looked at all the Deadpool memes (uughh), asked bros, and came up with nothing (not even the pic posted above including the Derpy version). This is going to haunt me until i find this rogue meme! I might ask the person that posted it and see if its OC (Which i highly doubt). Get back to you if i find anything at all.\n",
      "Comment: How is called this meme?\n",
      "Comment: WTF??\n",
      "Comment: Hypercat-Z wrote:\n",
      "Comment: One of those is in a suit. It could be Brock Obama.\n",
      "Comment: Does anyone know the name of that girl?\n",
      "Comment: Is this a meme?\n",
      "Comment: That's Carl from Aqua Teen Hunger Force.\n",
      "Comment: Mr Bumhole #1 Fan Of Osaka wrote:\n",
      "Comment: Thanks Tonberry!\n",
      "Comment: What about this one? Or is this just a Derpy thing?\n",
      "Comment: :\n",
      "Comment: Mr Bumhole #1 Fan Of Osaka wrote:\n",
      "Comment: OH MY GOD\n",
      "Comment: :D No problem.\n",
      "Comment: Mr Bumhole #1 Fan Of Osaka wrote:\n",
      "Comment: Ii have noticed several photoshopped variants of this pic, if this is the original.\n",
      "Comment: It's called It's Goofy Time :l\n",
      "Comment: Thanks! I feel kinda chunky by now.\n",
      "Comment: \n",
      "Comment: I have noticed several pictures drawn in a medieval style and using an ancient slang to made memes. Like this one in your site:\n",
      "Comment: Hypercat-Z wrote:\n",
      "Comment: Tanks! Now if you could find a mirror site that does work, I would be grate!\n",
      "Comment: \n",
      "Comment: \n",
      "Comment: @foobarbaz, that's Facebombing.\n",
      "Comment: @Olivia thanks a lot!\n",
      "Comment: LizardAID wrote:\n",
      "Comment: What are these memes called?\n",
      "Comment: The bottom one is an Obama Hope Poster Parody.\n",
      "Comment: http://chzmemebase.files.wordpress.com/2011/06/memes-crying-run.jpg\n",
      "Comment: ShadowDialga wrote:\n",
      "Comment: Mr Bumhole #1 Fan Of Osaka wrote:\n",
      "Comment: \n",
      "Comment: http://www.worldwide-web.com/JeffreyBabad/Simpsons/Milhouse/milhouse.gif\n",
      "Comment: \"..And PUSH it somewhere else!\"\n",
      "Comment: \n",
      "Comment: What the one with people in a pimp-kind of car all bobbing their heads with the camera around the hood?\n",
      "Comment: What is Love ShadowDialga\n"
     ]
    }
   ],
   "source": [
    "from docx import Document\n",
    "filename = \"knowyourmeme.docx\"\n",
    "document = Document(filename)\n",
    "for paragraph in document.paragraphs:\n",
    "    if 'Comment:' in paragraph.text:\n",
    "        print (paragraph.text)"
   ]
  },
  {
   "cell_type": "code",
   "execution_count": 71,
   "metadata": {},
   "outputs": [
    {
     "name": "stdout",
     "output_type": "stream",
     "text": [
      "Name: Olivia Gulin\n",
      "Name: SilverMonGoose\n",
      "Name: KawaiiMelon\n",
      "Name: Sav\n",
      "Name: Don\n",
      "Name: Don\n",
      "Name: Fridge\n",
      "Name: Derpy-is-on-the-loose!\n",
      "Name: Fridge\n",
      "Name: Mr Bumhole #1 Fan Of Osaka\n",
      "Name: Derpy-is-on-the-loose!\n",
      "Name: Derpy-is-on-the-loose!\n",
      "Name: Hypercat-Z\n",
      "Name: Hypercat-Z\n",
      "Name: Chris\n",
      "Name: Fridge\n",
      "Name: Mr Bumhole #1 Fan Of Osaka\n",
      "Name: Josh\n",
      "Name: Mr Bumhole #1 Fan Of Osaka\n",
      "Name: Tomberry\n",
      "Name: Mr Bumhole #1 Fan Of Osaka\n",
      "Name: Princess Affinity For Muffins\n",
      "Name: Mr Bumhole #1 Fan Of Osaka\n",
      "Name: Mr Bumhole #1 Fan Of Osaka\n",
      "Name: Mr Bumhole #1 Fan Of Osaka\n",
      "Name: Tulio\n",
      "Name: Princess Affinity For Muffins\n",
      "Name: Hypercat-Z\n",
      "Name: Mr Bumhole #1 Fan Of Osaka\n",
      "Name: Hypercat-Z\n",
      "Name: Mr Bumhole #1 Fan Of Osaka\n",
      "Name: Hypercat-Z\n",
      "Name: Chris\n",
      "Name: Hypercat-Z\n",
      "Name: LizardAID\n",
      "Name: foobarbaz\n",
      "Name: Olivia Gulin\n",
      "Name: foobarbaz\n",
      "Name: Chris\n",
      "Name: Hypercat-Z\n",
      "Name: Chris\n",
      "Name: ShadowDialga\n",
      "Name: Mr Bumhole #1 Fan Of Osaka\n",
      "Name: ShadowDialga\n",
      "Name: Frozenpwn The Prince of Indifference\n",
      "Name: FudgeGruck\n",
      "Name: coolgamer22\n",
      "Name: Philip J. Fry\n",
      "Name: ShadowDialga\n",
      "Name: Mr Bumhole #1 Fan Of Osaka\n"
     ]
    }
   ],
   "source": [
    "for paragraph in document.paragraphs:\n",
    "    if 'Name:' in paragraph.text:\n",
    "        print (paragraph.text)"
   ]
  },
  {
   "cell_type": "code",
   "execution_count": 72,
   "metadata": {},
   "outputs": [
    {
     "name": "stdout",
     "output_type": "stream",
     "text": [
      "Time: May 16, 2011, 9:39pm\n",
      "Time: May 17, 2011, 5:20pm\n",
      "Time: May 17, 2011 9:38pm\n",
      "Time: May 18, 2011 7:10pm\n",
      "Time: May 19, 2011 12:48 PM\n",
      "Time: May 19, 2011 12:48 PM\n",
      "Time: May 30, 2011 5:19 PM\n",
      "Time: May 30, 2011 11:28 PM\n",
      "Time: May 31, 2011 5:28 PM\n",
      "Time: May 31, 2011 7:53 PM\n",
      "Time: May 31, 2011 11:17 PM\n",
      "Time: May 30, 2011 11:46 PM\n",
      "Time: June 2, 2011 4:02 PM\n",
      "Time: June 2, 2011 4:05 PM\n",
      "Time: June 2, 2011 4:43 PM\n",
      "Time: June 2, 2011 7:06 PM\n",
      "Time: June 10, 2011 3:10 PM\n",
      "Time: June 11, 2011 1:01 AM\n",
      "Time: June 11, 2011 4:22 AM\n",
      "Time: June 11, 2011 7:58 AM\n",
      "Time: June 11, 2011 8:17 AM\n",
      "Time: June 11, 2011 1:08 AM\n",
      "Time: June 11, 2011 1:43 PM\n",
      "Time: June 11, 2011 2:18 PM\n",
      "Time: June 11, 2011 2:12 PM\n",
      "Time: June 11, 2011 2:16 PM\n",
      "Time: June 11, 2011 2:54 PM\n",
      "Time: June 14, 2011 12:32 PM\n",
      "Time: June 14, 2011 12:36 PM\n",
      "Time: June 14, 2011 4:29 PM\n",
      "Time: June 15, 2011 11:03 PM\n",
      "Time: June 15, 2011 7:46 PM\n",
      "Time: June 15, 2011 8:53 PM\n",
      "Time: June 16, 2011 10:46 AM\n",
      "Time: June 16, 2011 4:42 PM\n",
      "Time: June 20, 2011 10:16 AM\n",
      "Time: June 20, 2011 10:41 AM\n",
      "Time: June 20, 2011 11:55 AM\n",
      "Time: June 20, 2011 2:01 PM\n",
      "Time: June 23, 2011 3:46 PM\n",
      "Time: June 23, 2011 5:16 PM\n",
      "Time: June 23, 2011 8:23 PM\n",
      "Time: June 23, 2011 10:43 PM\n",
      "Time: June 24, 2011 2:22 PM\n",
      "Time: June 24, 2011 10:48 AM\n",
      "Time: June 24, 2011 12:58 PM\n",
      "Time: June 26, 2011 11:10 PM\n",
      "Time: June 30, 2011 5:56 PM\n",
      "Time: July 3, 2011 9:12 PM\n",
      "Time: July 3, 2011 9:21 PM\n"
     ]
    }
   ],
   "source": [
    "for paragraph in document.paragraphs:\n",
    "    if 'Time:' in paragraph.text:\n",
    "        print (paragraph.text)"
   ]
  },
  {
   "cell_type": "code",
   "execution_count": 88,
   "metadata": {},
   "outputs": [
    {
     "name": "stdout",
     "output_type": "stream",
     "text": [
      "5.959816666666667 7.597913888888889 nogTb.png\n",
      "5.959816666666667 7.597913888888889 nogTb.png\n",
      "4.196522222222222 7.445802777777778 Picture 1\n",
      "4.196522222222222 7.445802777777778 Picture 1\n",
      "4.219222222222222 2.0760972222222223 Picture 2\n",
      "5.381377777777778 7.035441666666666 129813019827.jpg\n",
      "4.196522222222222 7.445802777777778 Picture 1\n",
      "5.825747222222223 4.989386111111111 ArgentinaAlbinos.jpg\n",
      "6.706611111111111 6.052897222222223 tumblr_lmukwhpymq1qeivtvo1_500.jpg\n",
      "6.886122222222222 4.373216666666667 0558_ae59_500.jpeg\n",
      "6.706611111111111 6.052897222222223 tumblr_lmukwhpymq1qeivtvo1_500.jpg\n",
      "3.887986111111111 3.8723083333333332 Holdingheadwhilelaughing.png\n"
     ]
    }
   ],
   "source": [
    "for image in document.inline_shapes:\n",
    "    print (image.height.cm,image.width.cm,image._inline.graphic.graphicData.pic.nvPicPr.cNvPr.name)"
   ]
  },
  {
   "cell_type": "code",
   "execution_count": null,
   "metadata": {},
   "outputs": [],
   "source": []
  }
 ],
 "metadata": {
  "kernelspec": {
   "display_name": "Python 3",
   "language": "python",
   "name": "python3"
  },
  "language_info": {
   "codemirror_mode": {
    "name": "ipython",
    "version": 3
   },
   "file_extension": ".py",
   "mimetype": "text/x-python",
   "name": "python",
   "nbconvert_exporter": "python",
   "pygments_lexer": "ipython3",
   "version": "3.7.4"
  }
 },
 "nbformat": 4,
 "nbformat_minor": 2
}
