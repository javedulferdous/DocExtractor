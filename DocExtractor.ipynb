{
 "cells": [
  {
   "cell_type": "code",
   "execution_count": 61,
   "metadata": {},
   "outputs": [
    {
     "name": "stdout",
     "output_type": "stream",
     "text": [
      "Comment:  I hope there is not a thread for this already but some of these I find quite funny...\n",
      "Comment: Nice ones!\n",
      "Comment:   On 1/3/2015 at 12:53 PM, bitbang said:\n",
      "Comment: :laugh: :laugh:\n",
      "Comment: \n",
      "Comment: one-does-not-simply-grow-out-of-lego.jpg\n",
      "Comment:   On 1/4/2015 at 4:34 AM, Sven F said:\n",
      "Comment:   On 1/4/2015 at 7:12 PM, bitbang said:\n",
      "Comment: On 1/4/2015 at 9:20 PM, XAxles said:\n",
      "Comment:   On 1/4/2015 at 7:12 PM, bitbang said:\n",
      "Comment:   On 1/4/2015 at 4:34 AM, Sven F said:\n",
      "Comment:   On 1/7/2015 at 9:44 AM, Heppeng said:\n",
      "Comment: \n",
      "Comment: Prior to sorting into separate containers, I can relate to that one too.\n",
      "Comment: I've never really thought the LEGO bricks hurt as bad as everyone says. They're not comfortable, but I don't think that they're as bad as everyone says.\n",
      "Comment:   On 1/7/2015 at 5:29 PM, -zenn said:\n",
      "Comment: Found these:\n",
      "Comment: ^ Yea it can be moved but it is general lego discussion so it goes either way. Those are cute. Reminds me of these lego posters I saw at Toys R Us last year.\n",
      "Comment: \n",
      "Comment: 30% on yellow and 30% on orange.\n",
      "Comment: This is the LEGO version of a pretty famous meme\n",
      "Comment: On 1/10/2015 at 1:05 AM, Robert8 said:\n",
      "Comment: On 1/7/2015 at 6:45 PM, Gremer said:\n",
      "Comment: lego-movie-everything-is-awesome-article.jpg\n",
      "Comment: \n"
     ]
    }
   ],
   "source": [
    "from docx import Document\n",
    "filename = \"eurobricks.docx\"\n",
    "document = Document(filename)\n",
    "for paragraph in document.paragraphs:\n",
    "    if 'Comment:' in paragraph.text:\n",
    "        print (paragraph.text)"
   ]
  },
  {
   "cell_type": "code",
   "execution_count": null,
   "metadata": {},
   "outputs": [],
   "source": []
  }
 ],
 "metadata": {
  "kernelspec": {
   "display_name": "Python 3",
   "language": "python",
   "name": "python3"
  },
  "language_info": {
   "codemirror_mode": {
    "name": "ipython",
    "version": 3
   },
   "file_extension": ".py",
   "mimetype": "text/x-python",
   "name": "python",
   "nbconvert_exporter": "python",
   "pygments_lexer": "ipython3",
   "version": "3.7.4"
  }
 },
 "nbformat": 4,
 "nbformat_minor": 2
}
